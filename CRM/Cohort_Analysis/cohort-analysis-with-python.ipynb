{
 "cells": [
  {
   "cell_type": "markdown",
   "id": "92983c6d",
   "metadata": {
    "papermill": {
     "duration": 0.02707,
     "end_time": "2022-02-28T19:58:35.824320",
     "exception": false,
     "start_time": "2022-02-28T19:58:35.797250",
     "status": "completed"
    },
    "tags": []
   },
   "source": [
    "# **Cohort Analysis With Python**\n",
    "\n",
    "In this article, I am going to talk about Cohort Analysis and how to analyze it with Python. It widely used for mobile applications/games.\n",
    "Let's say we created a mobile game and published it. How do we know the game will be popular or die. It depends on the relationship with the users. \n",
    "If the entrepreneurs analyze relations with the users, fix bugs and errors and take the necessary steps to organize their relations, they will at least increase their chance of survival.\n",
    "\n",
    "But, how to understand these relations?\n",
    "\n",
    "The answer is Cohort Analysis."
   ]
  },
  {
   "cell_type": "markdown",
   "id": "7ad99449",
   "metadata": {
    "papermill": {
     "duration": 0.02108,
     "end_time": "2022-02-28T19:58:35.868327",
     "exception": false,
     "start_time": "2022-02-28T19:58:35.847247",
     "status": "completed"
    },
    "tags": []
   },
   "source": [
    "## **What is Cohort Analysis?**\n",
    "\n",
    "Literally, a cohort is a group who shared similar behaviours within a specified period. A group of people born in Turkey in 2022 is an example for cohort related to the number of births in a country. In terms of bussiness problems, cohort represents a group of customers or users. And a cohort analysis is when you try to derive insights from the behaviour of this group. Cohorts analysis make it easy to analyze the user behaviour and trends without having to look at the behaviour of each user individually."
   ]
  },
  {
   "cell_type": "markdown",
   "id": "9ed890c7",
   "metadata": {
    "papermill": {
     "duration": 0.025909,
     "end_time": "2022-02-28T19:58:35.921219",
     "exception": false,
     "start_time": "2022-02-28T19:58:35.895310",
     "status": "completed"
    },
    "tags": []
   },
   "source": [
    "## **Why Cohort Analysis?**\n",
    "The most valuable feature of cohort analysis is that it helps companies answer some of the targeted questions by examining the relevant data. Cohort Analysis helps to understand how the behaviour of users can affect the business in terms of acquisition and retention and to analyze the customer churn rate."
   ]
  },
  {
   "cell_type": "markdown",
   "id": "7def3770",
   "metadata": {
    "papermill": {
     "duration": 0.023523,
     "end_time": "2022-02-28T19:58:35.968676",
     "exception": false,
     "start_time": "2022-02-28T19:58:35.945153",
     "status": "completed"
    },
    "tags": []
   },
   "source": [
    "## **Cohort Analysis Using Python**\n",
    "We will use the Online Retail dataset. You can find it [here](https://archive.ics.uci.edu/ml/datasets/Online+Retail) or [here](https://www.kaggle.com/mathchi/online-retail-ii-data-set-from-ml-repository).\n",
    "\n"
   ]
  },
  {
   "cell_type": "code",
   "execution_count": 1,
   "id": "d5e1c011",
   "metadata": {
    "_cell_guid": "b1076dfc-b9ad-4769-8c92-a6c4dae69d19",
    "_uuid": "8f2839f25d086af736a60e9eeb907d3b93b6e0e5",
    "execution": {
     "iopub.execute_input": "2022-02-28T19:58:36.027378Z",
     "iopub.status.busy": "2022-02-28T19:58:36.026546Z",
     "iopub.status.idle": "2022-02-28T19:58:37.654379Z",
     "shell.execute_reply": "2022-02-28T19:58:37.653584Z",
     "shell.execute_reply.started": "2022-02-28T19:56:18.767262Z"
    },
    "papermill": {
     "duration": 1.661089,
     "end_time": "2022-02-28T19:58:37.654590",
     "exception": false,
     "start_time": "2022-02-28T19:58:35.993501",
     "status": "completed"
    },
    "tags": []
   },
   "outputs": [],
   "source": [
    "# import libraries\n",
    "import numpy as np # linear algebra\n",
    "import pandas as pd # data processing, CSV file I/O (e.g. pd.read_csv)\n",
    "import datetime as dt\n",
    "\n",
    "# data visualization libraries\n",
    "import matplotlib.pyplot as plt\n",
    "import matplotlib.colors as mcolors\n",
    "import seaborn as sns\n",
    "\n",
    "from operator import attrgetter\n",
    "\n",
    "# machine learning libraries\n",
    "from sklearn.preprocessing import StandardScaler\n",
    "from sklearn.cluster import KMeans"
   ]
  },
  {
   "cell_type": "code",
   "execution_count": 2,
   "id": "bf85c80c",
   "metadata": {
    "execution": {
     "iopub.execute_input": "2022-02-28T19:58:37.708950Z",
     "iopub.status.busy": "2022-02-28T19:58:37.707838Z",
     "iopub.status.idle": "2022-02-28T19:58:38.942615Z",
     "shell.execute_reply": "2022-02-28T19:58:38.941473Z",
     "shell.execute_reply.started": "2022-02-28T19:56:20.081234Z"
    },
    "papermill": {
     "duration": 1.265143,
     "end_time": "2022-02-28T19:58:38.942809",
     "exception": false,
     "start_time": "2022-02-28T19:58:37.677666",
     "status": "completed"
    },
    "tags": []
   },
   "outputs": [],
   "source": [
    "# due to some reasons, we need to use encoding parameters\n",
    "file ='../input/online-retail-ii-data-set-from-ml-repository/Year 2010-2011.csv'\n",
    "import chardet\n",
    "with open(file, 'rb') as rawdata:\n",
    "    result = chardet.detect(rawdata.read(100000))\n",
    "result\n",
    "\n",
    "df = pd.read_csv(file,encoding='ISO-8859-1')"
   ]
  },
  {
   "cell_type": "code",
   "execution_count": 3,
   "id": "de10c0ac",
   "metadata": {
    "execution": {
     "iopub.execute_input": "2022-02-28T19:58:38.998226Z",
     "iopub.status.busy": "2022-02-28T19:58:38.997401Z",
     "iopub.status.idle": "2022-02-28T19:58:39.017140Z",
     "shell.execute_reply": "2022-02-28T19:58:39.017686Z",
     "shell.execute_reply.started": "2022-02-28T19:56:21.011461Z"
    },
    "papermill": {
     "duration": 0.053792,
     "end_time": "2022-02-28T19:58:39.017908",
     "exception": false,
     "start_time": "2022-02-28T19:58:38.964116",
     "status": "completed"
    },
    "tags": []
   },
   "outputs": [
    {
     "data": {
      "text/html": [
       "<div>\n",
       "<style scoped>\n",
       "    .dataframe tbody tr th:only-of-type {\n",
       "        vertical-align: middle;\n",
       "    }\n",
       "\n",
       "    .dataframe tbody tr th {\n",
       "        vertical-align: top;\n",
       "    }\n",
       "\n",
       "    .dataframe thead th {\n",
       "        text-align: right;\n",
       "    }\n",
       "</style>\n",
       "<table border=\"1\" class=\"dataframe\">\n",
       "  <thead>\n",
       "    <tr style=\"text-align: right;\">\n",
       "      <th></th>\n",
       "      <th>Invoice</th>\n",
       "      <th>StockCode</th>\n",
       "      <th>Description</th>\n",
       "      <th>Quantity</th>\n",
       "      <th>InvoiceDate</th>\n",
       "      <th>Price</th>\n",
       "      <th>Customer ID</th>\n",
       "      <th>Country</th>\n",
       "    </tr>\n",
       "  </thead>\n",
       "  <tbody>\n",
       "    <tr>\n",
       "      <th>0</th>\n",
       "      <td>536365</td>\n",
       "      <td>85123A</td>\n",
       "      <td>WHITE HANGING HEART T-LIGHT HOLDER</td>\n",
       "      <td>6</td>\n",
       "      <td>12/1/2010 8:26</td>\n",
       "      <td>2.55</td>\n",
       "      <td>17850.0</td>\n",
       "      <td>United Kingdom</td>\n",
       "    </tr>\n",
       "    <tr>\n",
       "      <th>1</th>\n",
       "      <td>536365</td>\n",
       "      <td>71053</td>\n",
       "      <td>WHITE METAL LANTERN</td>\n",
       "      <td>6</td>\n",
       "      <td>12/1/2010 8:26</td>\n",
       "      <td>3.39</td>\n",
       "      <td>17850.0</td>\n",
       "      <td>United Kingdom</td>\n",
       "    </tr>\n",
       "    <tr>\n",
       "      <th>2</th>\n",
       "      <td>536365</td>\n",
       "      <td>84406B</td>\n",
       "      <td>CREAM CUPID HEARTS COAT HANGER</td>\n",
       "      <td>8</td>\n",
       "      <td>12/1/2010 8:26</td>\n",
       "      <td>2.75</td>\n",
       "      <td>17850.0</td>\n",
       "      <td>United Kingdom</td>\n",
       "    </tr>\n",
       "    <tr>\n",
       "      <th>3</th>\n",
       "      <td>536365</td>\n",
       "      <td>84029G</td>\n",
       "      <td>KNITTED UNION FLAG HOT WATER BOTTLE</td>\n",
       "      <td>6</td>\n",
       "      <td>12/1/2010 8:26</td>\n",
       "      <td>3.39</td>\n",
       "      <td>17850.0</td>\n",
       "      <td>United Kingdom</td>\n",
       "    </tr>\n",
       "    <tr>\n",
       "      <th>4</th>\n",
       "      <td>536365</td>\n",
       "      <td>84029E</td>\n",
       "      <td>RED WOOLLY HOTTIE WHITE HEART.</td>\n",
       "      <td>6</td>\n",
       "      <td>12/1/2010 8:26</td>\n",
       "      <td>3.39</td>\n",
       "      <td>17850.0</td>\n",
       "      <td>United Kingdom</td>\n",
       "    </tr>\n",
       "  </tbody>\n",
       "</table>\n",
       "</div>"
      ],
      "text/plain": [
       "  Invoice StockCode                          Description  Quantity  \\\n",
       "0  536365    85123A   WHITE HANGING HEART T-LIGHT HOLDER         6   \n",
       "1  536365     71053                  WHITE METAL LANTERN         6   \n",
       "2  536365    84406B       CREAM CUPID HEARTS COAT HANGER         8   \n",
       "3  536365    84029G  KNITTED UNION FLAG HOT WATER BOTTLE         6   \n",
       "4  536365    84029E       RED WOOLLY HOTTIE WHITE HEART.         6   \n",
       "\n",
       "      InvoiceDate  Price  Customer ID         Country  \n",
       "0  12/1/2010 8:26   2.55      17850.0  United Kingdom  \n",
       "1  12/1/2010 8:26   3.39      17850.0  United Kingdom  \n",
       "2  12/1/2010 8:26   2.75      17850.0  United Kingdom  \n",
       "3  12/1/2010 8:26   3.39      17850.0  United Kingdom  \n",
       "4  12/1/2010 8:26   3.39      17850.0  United Kingdom  "
      ]
     },
     "execution_count": 3,
     "metadata": {},
     "output_type": "execute_result"
    }
   ],
   "source": [
    "df.head()"
   ]
  },
  {
   "cell_type": "markdown",
   "id": "cc184a6a",
   "metadata": {
    "papermill": {
     "duration": 0.024009,
     "end_time": "2022-02-28T19:58:39.064676",
     "exception": false,
     "start_time": "2022-02-28T19:58:39.040667",
     "status": "completed"
    },
    "tags": []
   },
   "source": [
    "I will directly delete the missing values and duplicates as they are not in the scope of our topic."
   ]
  },
  {
   "cell_type": "code",
   "execution_count": 4,
   "id": "c3ca30d6",
   "metadata": {
    "execution": {
     "iopub.execute_input": "2022-02-28T19:58:39.115502Z",
     "iopub.status.busy": "2022-02-28T19:58:39.114777Z",
     "iopub.status.idle": "2022-02-28T19:58:39.464982Z",
     "shell.execute_reply": "2022-02-28T19:58:39.464371Z",
     "shell.execute_reply.started": "2022-02-28T19:56:21.038011Z"
    },
    "papermill": {
     "duration": 0.37747,
     "end_time": "2022-02-28T19:58:39.465173",
     "exception": false,
     "start_time": "2022-02-28T19:58:39.087703",
     "status": "completed"
    },
    "tags": []
   },
   "outputs": [],
   "source": [
    "df.dropna(inplace=True)"
   ]
  },
  {
   "cell_type": "code",
   "execution_count": 5,
   "id": "11b82d78",
   "metadata": {
    "execution": {
     "iopub.execute_input": "2022-02-28T19:58:39.517184Z",
     "iopub.status.busy": "2022-02-28T19:58:39.516475Z",
     "iopub.status.idle": "2022-02-28T19:58:39.865216Z",
     "shell.execute_reply": "2022-02-28T19:58:39.864577Z",
     "shell.execute_reply.started": "2022-02-28T19:56:21.219877Z"
    },
    "papermill": {
     "duration": 0.378514,
     "end_time": "2022-02-28T19:58:39.865401",
     "exception": false,
     "start_time": "2022-02-28T19:58:39.486887",
     "status": "completed"
    },
    "tags": []
   },
   "outputs": [],
   "source": [
    "df.drop_duplicates(inplace=True)"
   ]
  },
  {
   "cell_type": "code",
   "execution_count": 6,
   "id": "ab224444",
   "metadata": {
    "execution": {
     "iopub.execute_input": "2022-02-28T19:58:39.913861Z",
     "iopub.status.busy": "2022-02-28T19:58:39.913159Z",
     "iopub.status.idle": "2022-02-28T19:58:39.974090Z",
     "shell.execute_reply": "2022-02-28T19:58:39.973539Z",
     "shell.execute_reply.started": "2022-02-28T19:56:21.528068Z"
    },
    "papermill": {
     "duration": 0.087241,
     "end_time": "2022-02-28T19:58:39.974266",
     "exception": false,
     "start_time": "2022-02-28T19:58:39.887025",
     "status": "completed"
    },
    "tags": []
   },
   "outputs": [
    {
     "data": {
      "text/html": [
       "<div>\n",
       "<style scoped>\n",
       "    .dataframe tbody tr th:only-of-type {\n",
       "        vertical-align: middle;\n",
       "    }\n",
       "\n",
       "    .dataframe tbody tr th {\n",
       "        vertical-align: top;\n",
       "    }\n",
       "\n",
       "    .dataframe thead th {\n",
       "        text-align: right;\n",
       "    }\n",
       "</style>\n",
       "<table border=\"1\" class=\"dataframe\">\n",
       "  <thead>\n",
       "    <tr style=\"text-align: right;\">\n",
       "      <th></th>\n",
       "      <th>Quantity</th>\n",
       "      <th>Price</th>\n",
       "      <th>Customer ID</th>\n",
       "    </tr>\n",
       "  </thead>\n",
       "  <tbody>\n",
       "    <tr>\n",
       "      <th>count</th>\n",
       "      <td>401605.000000</td>\n",
       "      <td>401605.000000</td>\n",
       "      <td>401605.000000</td>\n",
       "    </tr>\n",
       "    <tr>\n",
       "      <th>mean</th>\n",
       "      <td>12.183245</td>\n",
       "      <td>3.474100</td>\n",
       "      <td>15281.154341</td>\n",
       "    </tr>\n",
       "    <tr>\n",
       "      <th>std</th>\n",
       "      <td>250.282726</td>\n",
       "      <td>69.763952</td>\n",
       "      <td>1714.008869</td>\n",
       "    </tr>\n",
       "    <tr>\n",
       "      <th>min</th>\n",
       "      <td>-80995.000000</td>\n",
       "      <td>0.000000</td>\n",
       "      <td>12346.000000</td>\n",
       "    </tr>\n",
       "    <tr>\n",
       "      <th>25%</th>\n",
       "      <td>2.000000</td>\n",
       "      <td>1.250000</td>\n",
       "      <td>13939.000000</td>\n",
       "    </tr>\n",
       "    <tr>\n",
       "      <th>50%</th>\n",
       "      <td>5.000000</td>\n",
       "      <td>1.950000</td>\n",
       "      <td>15145.000000</td>\n",
       "    </tr>\n",
       "    <tr>\n",
       "      <th>75%</th>\n",
       "      <td>12.000000</td>\n",
       "      <td>3.750000</td>\n",
       "      <td>16784.000000</td>\n",
       "    </tr>\n",
       "    <tr>\n",
       "      <th>max</th>\n",
       "      <td>80995.000000</td>\n",
       "      <td>38970.000000</td>\n",
       "      <td>18287.000000</td>\n",
       "    </tr>\n",
       "  </tbody>\n",
       "</table>\n",
       "</div>"
      ],
      "text/plain": [
       "            Quantity          Price    Customer ID\n",
       "count  401605.000000  401605.000000  401605.000000\n",
       "mean       12.183245       3.474100   15281.154341\n",
       "std       250.282726      69.763952    1714.008869\n",
       "min    -80995.000000       0.000000   12346.000000\n",
       "25%         2.000000       1.250000   13939.000000\n",
       "50%         5.000000       1.950000   15145.000000\n",
       "75%        12.000000       3.750000   16784.000000\n",
       "max     80995.000000   38970.000000   18287.000000"
      ]
     },
     "execution_count": 6,
     "metadata": {},
     "output_type": "execute_result"
    }
   ],
   "source": [
    "df.describe()"
   ]
  },
  {
   "cell_type": "markdown",
   "id": "59596f8a",
   "metadata": {
    "papermill": {
     "duration": 0.026535,
     "end_time": "2022-02-28T19:58:40.027988",
     "exception": false,
     "start_time": "2022-02-28T19:58:40.001453",
     "status": "completed"
    },
    "tags": []
   },
   "source": [
    "There some negative values in the Quantity and Price features. It can't be possible. So I will filter the data greater than zero."
   ]
  },
  {
   "cell_type": "code",
   "execution_count": 7,
   "id": "60529c02",
   "metadata": {
    "execution": {
     "iopub.execute_input": "2022-02-28T19:58:40.090408Z",
     "iopub.status.busy": "2022-02-28T19:58:40.089671Z",
     "iopub.status.idle": "2022-02-28T19:58:40.124684Z",
     "shell.execute_reply": "2022-02-28T19:58:40.123811Z",
     "shell.execute_reply.started": "2022-02-28T19:56:21.589844Z"
    },
    "papermill": {
     "duration": 0.069221,
     "end_time": "2022-02-28T19:58:40.124876",
     "exception": false,
     "start_time": "2022-02-28T19:58:40.055655",
     "status": "completed"
    },
    "tags": []
   },
   "outputs": [],
   "source": [
    "df = df[(df['Quantity'] > 0) & (df['Price'] > 0)]"
   ]
  },
  {
   "cell_type": "markdown",
   "id": "d25253e7",
   "metadata": {
    "execution": {
     "iopub.execute_input": "2022-02-28T14:05:40.358726Z",
     "iopub.status.busy": "2022-02-28T14:05:40.358285Z",
     "iopub.status.idle": "2022-02-28T14:05:40.389282Z",
     "shell.execute_reply": "2022-02-28T14:05:40.388408Z",
     "shell.execute_reply.started": "2022-02-28T14:05:40.358615Z"
    },
    "papermill": {
     "duration": 0.023068,
     "end_time": "2022-02-28T19:58:40.174187",
     "exception": false,
     "start_time": "2022-02-28T19:58:40.151119",
     "status": "completed"
    },
    "tags": []
   },
   "source": [
    "## **Data Preparation**\n",
    "For cohort analysis, we need three labels. These are payment period, cohort group and cohort period/index."
   ]
  },
  {
   "cell_type": "markdown",
   "id": "91e8179a",
   "metadata": {
    "papermill": {
     "duration": 0.025204,
     "end_time": "2022-02-28T19:58:40.222758",
     "exception": false,
     "start_time": "2022-02-28T19:58:40.197554",
     "status": "completed"
    },
    "tags": []
   },
   "source": [
    "To work with the time series, we need to convert the type of related feature. The format shuld be as in the dataset."
   ]
  },
  {
   "cell_type": "code",
   "execution_count": 8,
   "id": "8932a953",
   "metadata": {
    "execution": {
     "iopub.execute_input": "2022-02-28T19:58:40.285124Z",
     "iopub.status.busy": "2022-02-28T19:58:40.284393Z",
     "iopub.status.idle": "2022-02-28T19:58:40.463570Z",
     "shell.execute_reply": "2022-02-28T19:58:40.462860Z",
     "shell.execute_reply.started": "2022-02-28T19:56:21.629996Z"
    },
    "papermill": {
     "duration": 0.215029,
     "end_time": "2022-02-28T19:58:40.463746",
     "exception": false,
     "start_time": "2022-02-28T19:58:40.248717",
     "status": "completed"
    },
    "tags": []
   },
   "outputs": [],
   "source": [
    "df['InvoiceDate'] = pd.to_datetime(df['InvoiceDate'], format='%m/%d/%Y %H:%M')"
   ]
  },
  {
   "cell_type": "markdown",
   "id": "0b130b71",
   "metadata": {
    "papermill": {
     "duration": 0.023227,
     "end_time": "2022-02-28T19:58:40.510459",
     "exception": false,
     "start_time": "2022-02-28T19:58:40.487232",
     "status": "completed"
    },
    "tags": []
   },
   "source": [
    "Now, we need to create the cohort and order_month variables. The first one indicates the monthly cohort based on the first purchase date and the second one is the truncated month of the purchase date."
   ]
  },
  {
   "cell_type": "code",
   "execution_count": 9,
   "id": "e506a0bc",
   "metadata": {
    "execution": {
     "iopub.execute_input": "2022-02-28T19:58:40.609604Z",
     "iopub.status.busy": "2022-02-28T19:58:40.608824Z",
     "iopub.status.idle": "2022-02-28T19:58:40.615075Z",
     "shell.execute_reply": "2022-02-28T19:58:40.614128Z",
     "shell.execute_reply.started": "2022-02-28T19:56:21.756804Z"
    },
    "papermill": {
     "duration": 0.079561,
     "end_time": "2022-02-28T19:58:40.615269",
     "exception": false,
     "start_time": "2022-02-28T19:58:40.535708",
     "status": "completed"
    },
    "tags": []
   },
   "outputs": [],
   "source": [
    "df['order_month'] = df['InvoiceDate'].dt.to_period('M')"
   ]
  },
  {
   "cell_type": "code",
   "execution_count": 10,
   "id": "db231d3d",
   "metadata": {
    "execution": {
     "iopub.execute_input": "2022-02-28T19:58:40.668648Z",
     "iopub.status.busy": "2022-02-28T19:58:40.667934Z",
     "iopub.status.idle": "2022-02-28T19:58:40.726676Z",
     "shell.execute_reply": "2022-02-28T19:58:40.725942Z",
     "shell.execute_reply.started": "2022-02-28T19:56:21.805491Z"
    },
    "papermill": {
     "duration": 0.087633,
     "end_time": "2022-02-28T19:58:40.726857",
     "exception": false,
     "start_time": "2022-02-28T19:58:40.639224",
     "status": "completed"
    },
    "tags": []
   },
   "outputs": [],
   "source": [
    "df['cohort'] = df.groupby('Customer ID')['InvoiceDate'].transform('min').dt.to_period('M')"
   ]
  },
  {
   "cell_type": "markdown",
   "id": "f2bb11b5",
   "metadata": {
    "papermill": {
     "duration": 0.02175,
     "end_time": "2022-02-28T19:58:40.771706",
     "exception": false,
     "start_time": "2022-02-28T19:58:40.749956",
     "status": "completed"
    },
    "tags": []
   },
   "source": [
    "Then, we aggregate the data per cohort and order_month and count the number of unique customers in each group."
   ]
  },
  {
   "cell_type": "code",
   "execution_count": 11,
   "id": "c40075e0",
   "metadata": {
    "execution": {
     "iopub.execute_input": "2022-02-28T19:58:40.834665Z",
     "iopub.status.busy": "2022-02-28T19:58:40.833957Z",
     "iopub.status.idle": "2022-02-28T19:58:40.894862Z",
     "shell.execute_reply": "2022-02-28T19:58:40.894251Z",
     "shell.execute_reply.started": "2022-02-28T19:56:21.868127Z"
    },
    "papermill": {
     "duration": 0.100666,
     "end_time": "2022-02-28T19:58:40.895012",
     "exception": false,
     "start_time": "2022-02-28T19:58:40.794346",
     "status": "completed"
    },
    "tags": []
   },
   "outputs": [],
   "source": [
    "df_cohort = df.groupby(['cohort', 'order_month']).agg(n_customers=('Customer ID', 'nunique')).reset_index(drop=False)"
   ]
  },
  {
   "cell_type": "code",
   "execution_count": 12,
   "id": "d037ad00",
   "metadata": {
    "execution": {
     "iopub.execute_input": "2022-02-28T19:58:40.948839Z",
     "iopub.status.busy": "2022-02-28T19:58:40.948102Z",
     "iopub.status.idle": "2022-02-28T19:58:40.950783Z",
     "shell.execute_reply": "2022-02-28T19:58:40.950139Z",
     "shell.execute_reply.started": "2022-02-28T19:56:21.932684Z"
    },
    "papermill": {
     "duration": 0.033817,
     "end_time": "2022-02-28T19:58:40.950940",
     "exception": false,
     "start_time": "2022-02-28T19:58:40.917123",
     "status": "completed"
    },
    "tags": []
   },
   "outputs": [],
   "source": [
    "df_cohort['period_number'] = (df_cohort.order_month - df_cohort.cohort).apply(attrgetter('n'))"
   ]
  },
  {
   "cell_type": "markdown",
   "id": "b0c3a35c",
   "metadata": {
    "papermill": {
     "duration": 0.025946,
     "end_time": "2022-02-28T19:58:40.999675",
     "exception": false,
     "start_time": "2022-02-28T19:58:40.973729",
     "status": "completed"
    },
    "tags": []
   },
   "source": [
    "Then, we aggregate the data per cohort and order_month and count the number of unique customers in each group."
   ]
  },
  {
   "cell_type": "code",
   "execution_count": 13,
   "id": "d2bd8c4e",
   "metadata": {
    "execution": {
     "iopub.execute_input": "2022-02-28T19:58:41.061888Z",
     "iopub.status.busy": "2022-02-28T19:58:41.059120Z",
     "iopub.status.idle": "2022-02-28T19:58:41.086740Z",
     "shell.execute_reply": "2022-02-28T19:58:41.085868Z",
     "shell.execute_reply.started": "2022-02-28T19:56:21.940454Z"
    },
    "papermill": {
     "duration": 0.061447,
     "end_time": "2022-02-28T19:58:41.086915",
     "exception": false,
     "start_time": "2022-02-28T19:58:41.025468",
     "status": "completed"
    },
    "tags": []
   },
   "outputs": [],
   "source": [
    "cohort_pivot = df_cohort.pivot_table(index='cohort', columns='period_number', values='n_customers')"
   ]
  },
  {
   "cell_type": "markdown",
   "id": "df3e41e1",
   "metadata": {
    "papermill": {
     "duration": 0.021786,
     "end_time": "2022-02-28T19:58:41.130808",
     "exception": false,
     "start_time": "2022-02-28T19:58:41.109022",
     "status": "completed"
    },
    "tags": []
   },
   "source": [
    "To obtain the retention matrix, we need to divide the values each row by the row's first value, which is actually the cohort size — all customers who made their first purchase in the given month."
   ]
  },
  {
   "cell_type": "code",
   "execution_count": 14,
   "id": "a5c745b8",
   "metadata": {
    "execution": {
     "iopub.execute_input": "2022-02-28T19:58:41.183351Z",
     "iopub.status.busy": "2022-02-28T19:58:41.182688Z",
     "iopub.status.idle": "2022-02-28T19:58:41.184641Z",
     "shell.execute_reply": "2022-02-28T19:58:41.185161Z",
     "shell.execute_reply.started": "2022-02-28T19:56:21.969203Z"
    },
    "papermill": {
     "duration": 0.031567,
     "end_time": "2022-02-28T19:58:41.185346",
     "exception": false,
     "start_time": "2022-02-28T19:58:41.153779",
     "status": "completed"
    },
    "tags": []
   },
   "outputs": [],
   "source": [
    "cohort_size = cohort_pivot.iloc[:, 0]"
   ]
  },
  {
   "cell_type": "code",
   "execution_count": 15,
   "id": "8de27f26",
   "metadata": {
    "execution": {
     "iopub.execute_input": "2022-02-28T19:58:41.232278Z",
     "iopub.status.busy": "2022-02-28T19:58:41.231677Z",
     "iopub.status.idle": "2022-02-28T19:58:41.236748Z",
     "shell.execute_reply": "2022-02-28T19:58:41.237215Z",
     "shell.execute_reply.started": "2022-02-28T19:56:21.975923Z"
    },
    "papermill": {
     "duration": 0.030309,
     "end_time": "2022-02-28T19:58:41.237395",
     "exception": false,
     "start_time": "2022-02-28T19:58:41.207086",
     "status": "completed"
    },
    "tags": []
   },
   "outputs": [],
   "source": [
    "retention_matrix = cohort_pivot.divide(cohort_size, axis=0)"
   ]
  },
  {
   "cell_type": "markdown",
   "id": "4af5076b",
   "metadata": {
    "papermill": {
     "duration": 0.021389,
     "end_time": "2022-02-28T19:58:41.280527",
     "exception": false,
     "start_time": "2022-02-28T19:58:41.259138",
     "status": "completed"
    },
    "tags": []
   },
   "source": [
    "Lastly, we plot the retention matrix as a heatmap. Additionally, we wanted to include extra information regarding the cohort size. That is why we in fact created two heatmaps, where the one indicating the cohort size is using a white only colormap — no coloring at all."
   ]
  },
  {
   "cell_type": "code",
   "execution_count": 16,
   "id": "2b0846b4",
   "metadata": {
    "execution": {
     "iopub.execute_input": "2022-02-28T19:58:41.339292Z",
     "iopub.status.busy": "2022-02-28T19:58:41.327650Z",
     "iopub.status.idle": "2022-02-28T19:58:42.792947Z",
     "shell.execute_reply": "2022-02-28T19:58:42.793595Z",
     "shell.execute_reply.started": "2022-02-28T19:56:21.986220Z"
    },
    "papermill": {
     "duration": 1.491484,
     "end_time": "2022-02-28T19:58:42.793836",
     "exception": false,
     "start_time": "2022-02-28T19:58:41.302352",
     "status": "completed"
    },
    "tags": []
   },
   "outputs": [
    {
     "data": {
      "image/png": "[encoded data removed]",
      "text/plain": [
       "<Figure size 864x576 with 3 Axes>"
      ]
     },
     "metadata": {},
     "output_type": "display_data"
    }
   ],
   "source": [
    "with sns.axes_style(\"white\"):\n",
    "    fig, ax = plt.subplots(1, 2, figsize=(12, 8), sharey=True, gridspec_kw={'width_ratios': [1, 11]})\n",
    "    \n",
    "    # retention matrix\n",
    "    sns.heatmap(retention_matrix, \n",
    "                mask=retention_matrix.isnull(), \n",
    "                annot=True, \n",
    "                fmt='.0%', \n",
    "                cmap='RdYlGn', \n",
    "                ax=ax[1])\n",
    "    ax[1].set_title('Monthly Cohorts: User Retention', fontsize=16)\n",
    "    ax[1].set(xlabel='# of periods',\n",
    "              ylabel='')\n",
    "\n",
    "    # cohort size\n",
    "    cohort_size_df = pd.DataFrame(cohort_size).rename(columns={0: 'cohort_size'})\n",
    "    white_cmap = mcolors.ListedColormap(['white'])\n",
    "    sns.heatmap(cohort_size_df, \n",
    "                annot=True, \n",
    "                cbar=False, \n",
    "                fmt='g', \n",
    "                cmap=white_cmap, \n",
    "                ax=ax[0])\n",
    "\n",
    "    fig.tight_layout()"
   ]
  },
  {
   "cell_type": "markdown",
   "id": "33fae170",
   "metadata": {
    "papermill": {
     "duration": 0.028289,
     "end_time": "2022-02-28T19:58:42.849906",
     "exception": false,
     "start_time": "2022-02-28T19:58:42.821617",
     "status": "completed"
    },
    "tags": []
   },
   "source": [
    "In the image, we can see that there is a sharp drop-off in the second month (indexed as 1) already, on average around 80% of customers do not make any purchase in the second month. The first cohort (2010–12) seems to be an exception and performs surprisingly well as compared to the other ones. A year after the first purchase, there is a 50% retention. This might be a cohort of dedicated customers, who first joined the platform based on some already-existing connections with the retailer. However, from data alone, that is very hard to accurately explain.\n",
    "\n",
    "Throughout the matrix, we can see fluctuations in retention over time. This might be caused by the characteristics of the business, where clients do periodic purchases, followed by periods of inactivity."
   ]
  }
 ],
 "metadata": {
  "kernelspec": {
   "display_name": "Python 3",
   "language": "python",
   "name": "python3"
  },
  "language_info": {
   "codemirror_mode": {
    "name": "ipython",
    "version": 3
   },
   "file_extension": ".py",
   "mimetype": "text/x-python",
   "name": "python",
   "nbconvert_exporter": "python",
   "pygments_lexer": "ipython3",
   "version": "3.7.12"
  },
  "papermill": {
   "default_parameters": {},
   "duration": 20.127881,
   "end_time": "2022-02-28T19:58:44.092986",
   "environment_variables": {},
   "exception": null,
   "input_path": "__notebook__.ipynb",
   "output_path": "__notebook__.ipynb",
   "parameters": {},
   "start_time": "2022-02-28T19:58:23.965105",
   "version": "2.3.3"
  }
 },
 "nbformat": 4,
 "nbformat_minor": 5
}
